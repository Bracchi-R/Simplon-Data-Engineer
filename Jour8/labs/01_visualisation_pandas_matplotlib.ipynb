{
 "cells": [
  {
   "cell_type": "markdown",
   "id": "9a3dd6fd",
   "metadata": {},
   "source": [
    "# TP – Visualisation avec Pandas & Matplotlib\n",
    "\n",
    "Ce notebook vous guide pour visualiser les données à l'aide de Pandas et Matplotlib."
   ]
  },
  {
   "cell_type": "code",
   "execution_count": null,
   "id": "54f689a2",
   "metadata": {},
   "outputs": [],
   "source": [
    "import pandas as pd\n",
    "import matplotlib.pyplot as plt"
   ]
  },
  {
   "cell_type": "markdown",
   "id": "10cf256a",
   "metadata": {},
   "source": [
    "## 1. Chargement des données"
   ]
  },
  {
   "cell_type": "code",
   "execution_count": null,
   "id": "b6d127dd",
   "metadata": {},
   "outputs": [],
   "source": [
    "df = pd.read_csv('resources/publications.csv')\n",
    "df.head()"
   ]
  },
  {
   "cell_type": "markdown",
   "id": "266ba9dd",
   "metadata": {},
   "source": [
    "## 2. Statistiques descriptives"
   ]
  },
  {
   "cell_type": "code",
   "execution_count": null,
   "id": "71c391a7",
   "metadata": {},
   "outputs": [],
   "source": [
    "df.describe()"
   ]
  },
  {
   "cell_type": "markdown",
   "id": "92fd4ba4",
   "metadata": {},
   "source": [
    "## 3. Histogramme des notes moyennes"
   ]
  },
  {
   "cell_type": "code",
   "execution_count": null,
   "id": "94f1f893",
   "metadata": {},
   "outputs": [],
   "source": [
    "df['Book_Average_Rating'].hist(bins=20)\n",
    "plt.title('Distribution des notes moyennes')\n",
    "plt.xlabel('Note')\n",
    "plt.ylabel('Nombre de livres')\n",
    "plt.show()"
   ]
  },
  {
   "cell_type": "markdown",
   "id": "f0d840bf",
   "metadata": {},
   "source": [
    "## 4. Barplot des ventes par éditeur"
   ]
  },
  {
   "cell_type": "code",
   "execution_count": null,
   "id": "3458e80c",
   "metadata": {},
   "outputs": [],
   "source": [
    "df.groupby('Publisher')['Gross_Sales'].sum().sort_values(ascending=False).head(10).plot(kind='bar')\n",
    "plt.title('Top 10 ventes par éditeur')\n",
    "plt.ylabel('Ventes')\n",
    "plt.xticks(rotation=45)\n",
    "plt.tight_layout()\n",
    "plt.show()"
   ]
  },
  {
   "cell_type": "markdown",
   "id": "27a574ef",
   "metadata": {},
   "source": [
    "## 5. Répartition des langues"
   ]
  },
  {
   "cell_type": "code",
   "execution_count": null,
   "id": "6029fa94",
   "metadata": {},
   "outputs": [],
   "source": [
    "df['Language_Code'].value_counts().plot(kind='pie', autopct='%1.1f%%')\n",
    "plt.title('Répartition des langues')\n",
    "plt.ylabel('')\n",
    "plt.show()"
   ]
  },
  {
   "cell_type": "markdown",
   "id": "cd7291c5",
   "metadata": {},
   "source": [
    "## 6. Courbe d’évolution des prix par année"
   ]
  },
  {
   "cell_type": "code",
   "execution_count": null,
   "id": "aa215d49",
   "metadata": {},
   "outputs": [],
   "source": [
    "df.groupby('Year')['Sale_Price'].mean().plot()\n",
    "plt.title('Prix moyen par année')\n",
    "plt.xlabel('Année')\n",
    "plt.ylabel('Prix moyen')\n",
    "plt.grid(True)\n",
    "plt.show()"
   ]
  },
  {
   "cell_type": "markdown",
   "id": "6f63529a",
   "metadata": {},
   "source": [
    "## 7. Nuage de points entre prix de vente et ventes totales"
   ]
  },
  {
   "cell_type": "code",
   "execution_count": null,
   "id": "5f09628c",
   "metadata": {},
   "outputs": [],
   "source": [
    "df.plot(kind='scatter', x='Sale_Price', y='Gross_Sales', alpha=0.5)\n",
    "plt.title('Prix vs Ventes')\n",
    "plt.xlabel('Prix')\n",
    "plt.ylabel('Ventes')\n",
    "plt.show()"
   ]
  }
 ],
 "metadata": {},
 "nbformat": 4,
 "nbformat_minor": 5
}
