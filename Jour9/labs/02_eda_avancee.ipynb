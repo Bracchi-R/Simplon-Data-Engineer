{
 "cells": [
  {
   "cell_type": "code",
   "execution_count": null,
   "id": "980c6e56",
   "metadata": {},
   "outputs": [],
   "source": [
    "# 02_eda_avancee.py  ── version script exécutable\n",
    "\n",
    "import pandas as pd\n",
    "import matplotlib.pyplot as plt\n",
    "import seaborn as sns\n",
    "plt.style.use(\"ggplot\")\n",
    "\n"
   ]
  },
  {
   "cell_type": "code",
   "execution_count": null,
   "id": "55a34a2b",
   "metadata": {},
   "outputs": [],
   "source": [
    "# 1. Charger le jeu de données\n",
    "df = pd.read_csv(\"resources/publications.csv\")\n",
    "\n"
   ]
  },
  {
   "cell_type": "code",
   "execution_count": null,
   "id": "18cf9bc1",
   "metadata": {},
   "outputs": [],
   "source": [
    "\n",
    "# 2. Nettoyage rapide\n",
    "df.drop_duplicates(inplace=True)\n",
    "numeric_cols = df.select_dtypes(\"number\").columns\n",
    "\n"
   ]
  },
  {
   "cell_type": "code",
   "execution_count": null,
   "id": "66271913",
   "metadata": {},
   "outputs": [],
   "source": [
    "# 3. Statistiques descriptives avancées\n",
    "print(df[numeric_cols].describe(percentiles=[.01,.05,.95,.99]))\n",
    "\n"
   ]
  },
  {
   "cell_type": "code",
   "execution_count": null,
   "id": "126b5445",
   "metadata": {},
   "outputs": [],
   "source": [
    "# 4. Détection rapide d’outliers (IQR)\n",
    "Q1 = df[numeric_cols].quantile(0.25)\n",
    "Q3 = df[numeric_cols].quantile(0.75)\n",
    "IQR = Q3 - Q1\n",
    "outliers = ((df[numeric_cols] < (Q1 - 1.5*IQR)) |\n",
    "            (df[numeric_cols] > (Q3 + 1.5*IQR))).any(axis=1)\n",
    "print(f\"Nb outliers détectés : {outliers.sum()}\")\n",
    "\n"
   ]
  },
  {
   "cell_type": "code",
   "execution_count": null,
   "id": "aaef89d5",
   "metadata": {},
   "outputs": [],
   "source": [
    "# 5. Matrice de corrélation\n",
    "corr = df[numeric_cols].corr()\n",
    "plt.figure(figsize=(10,8))\n",
    "sns.heatmap(corr, annot=True, cmap=\"coolwarm\", fmt=\".2f\", square=True)\n",
    "plt.title(\"Heatmap des corrélations\")\n",
    "plt.tight_layout()\n",
    "plt.savefig(\"visualisations/heatmap_correlations.png\")\n",
    "plt.show()\n"
   ]
  },
  {
   "cell_type": "code",
   "execution_count": null,
   "id": "5931ede1",
   "metadata": {},
   "outputs": [],
   "source": [
    "\n",
    "# 6. Pairplot (échantillon pour lisibilité)\n",
    "sample = df.sample(min(len(df), 300))\n",
    "sns.pairplot(sample[numeric_cols])\n",
    "plt.savefig(\"visualisations/pairplot_numeric.png\")\n",
    "plt.show()"
   ]
  }
 ],
 "metadata": {
  "kernelspec": {
   "display_name": "base",
   "language": "python",
   "name": "python3"
  },
  "language_info": {
   "name": "python",
   "version": "3.12.7"
  }
 },
 "nbformat": 4,
 "nbformat_minor": 5
}
