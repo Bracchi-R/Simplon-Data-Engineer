{
 "cells": [
  {
   "cell_type": "markdown",
   "id": "f5f30575",
   "metadata": {},
   "source": [
    "# Notebook – Rétro & Plan d’action individuel\n",
    "À compléter après soutenance."
   ]
  }
 ],
 "metadata": {},
 "nbformat": 4,
 "nbformat_minor": 5
}
